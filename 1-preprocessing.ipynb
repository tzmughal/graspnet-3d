{
 "cells": [
  {
   "cell_type": "code",
   "execution_count": 10,
   "id": "e78be901",
   "metadata": {},
   "outputs": [],
   "source": [
    "import os\n",
    "import glob\n",
    "import numpy as np\n",
    "import torch\n",
    "from torch.utils.data import Dataset, DataLoader\n",
    "import matplotlib.pyplot as plt\n"
   ]
  },
  {
   "cell_type": "code",
   "execution_count": 11,
   "id": "343d90bf",
   "metadata": {},
   "outputs": [],
   "source": [
    "class ScrewSegTxtDataset(Dataset):\n",
    "    def __init__(self, root_dir, num_points=8192, normalize=True):\n",
    "        self.files = [f for f in glob.glob(os.path.join(root_dir, \"*.txt\")) if self._has_screw(f)]\n",
    "        self.num_points = num_points\n",
    "        self.normalize = normalize\n",
    "\n",
    "    def _has_screw(self, file_path):\n",
    "        data = np.loadtxt(file_path, usecols=3)\n",
    "        return np.any(data == 1.0)\n",
    "\n",
    "    def __len__(self):\n",
    "        return len(self.files)\n",
    "\n",
    "    def __getitem__(self, idx):\n",
    "        file_path = self.files[idx]\n",
    "        data = np.loadtxt(file_path)\n",
    "\n",
    "        xyz = data[:, :3]\n",
    "        labels = data[:, 3].astype(np.int64)\n",
    "        normals = data[:, 4:7]\n",
    "\n",
    "        screw_mask = labels == 1\n",
    "        background_mask = labels == 0\n",
    "\n",
    "        screw_points = np.hstack((xyz[screw_mask], normals[screw_mask]))\n",
    "        background_points = np.hstack((xyz[background_mask], normals[background_mask]))\n",
    "\n",
    "        num_screw = screw_points.shape[0]\n",
    "        num_background = background_points.shape[0]\n",
    "\n",
    "        num_screw_sample = min(int(self.num_points * 0.2), num_screw)\n",
    "        num_background_sample = self.num_points - num_screw_sample\n",
    "\n",
    "        if num_screw > 0:\n",
    "            screw_idx = np.random.choice(num_screw, num_screw_sample, replace=(num_screw < num_screw_sample))\n",
    "            bg_idx = np.random.choice(num_background, num_background_sample, replace=(num_background < num_background_sample))\n",
    "            sampled_screw = screw_points[screw_idx]\n",
    "            sampled_bg = background_points[bg_idx]\n",
    "            sampled = np.vstack((sampled_screw, sampled_bg))\n",
    "            sampled_labels = np.array([1]*num_screw_sample + [0]*num_background_sample)\n",
    "        else:\n",
    "            all_points = np.hstack((xyz, normals))\n",
    "            indices = np.random.choice(all_points.shape[0], self.num_points, replace=True)\n",
    "            sampled = all_points[indices]\n",
    "            sampled_labels = labels[indices]\n",
    "\n",
    "        if self.normalize:\n",
    "            sampled[:, :3] = self._normalize(sampled[:, :3])\n",
    "\n",
    "        return torch.from_numpy(sampled).float(), torch.from_numpy(sampled_labels).long()\n",
    "\n",
    "    def _normalize(self, xyz):\n",
    "        xyz = xyz - np.mean(xyz, axis=0)\n",
    "        scale = np.max(np.linalg.norm(xyz, axis=1))\n",
    "        return xyz / scale\n"
   ]
  },
  {
   "cell_type": "code",
   "execution_count": 12,
   "id": "2539b246",
   "metadata": {},
   "outputs": [
    {
     "name": "stdout",
     "output_type": "stream",
     "text": [
      "Total samples: 298\n",
      "Points shape: torch.Size([8192, 6])\n",
      "Labels shape: torch.Size([8192])\n",
      "Unique labels: (tensor([0, 1]), tensor([6554, 1638]))\n"
     ]
    }
   ],
   "source": [
    "dataset_path = \"data/txt\"  # update if needed\n",
    "dataset = ScrewSegTxtDataset(dataset_path, num_points=8192)\n",
    "\n",
    "print(\"Total samples:\", len(dataset))\n",
    "points, labels = dataset[0]\n",
    "print(\"Points shape:\", points.shape)\n",
    "print(\"Labels shape:\", labels.shape)\n",
    "print(\"Unique labels:\", torch.unique(labels, return_counts=True))\n"
   ]
  },
  {
   "cell_type": "code",
   "execution_count": 14,
   "id": "605e2594",
   "metadata": {},
   "outputs": [
    {
     "name": "stderr",
     "output_type": "stream",
     "text": [
      "Preprocessing: 100%|██████████| 298/298 [01:33<00:00,  3.19it/s]\n"
     ]
    }
   ],
   "source": [
    "import os\n",
    "import numpy as np\n",
    "from tqdm import tqdm\n",
    "\n",
    "save_dir = \"preprocessed_data\"\n",
    "os.makedirs(save_dir, exist_ok=True)\n",
    "\n",
    "dataset = ScrewSegTxtDataset(\"data/txt\", num_points=8192)\n",
    "\n",
    "for idx in tqdm(range(len(dataset)), desc=\"Preprocessing\"):\n",
    "    points, labels = dataset[idx]\n",
    "    sample = {\n",
    "        \"points\": points.numpy(),     # shape [8192, 6]\n",
    "        \"labels\": labels.numpy()      # shape [8192]\n",
    "    }\n",
    "    file_name = f\"sample_{idx:03d}.npz\"\n",
    "    np.savez_compressed(os.path.join(save_dir, file_name), **sample)\n"
   ]
  },
  {
   "cell_type": "code",
   "execution_count": 20,
   "id": "51a6abb1",
   "metadata": {},
   "outputs": [
    {
     "data": {
      "image/png": "[encoded data removed]",
      "text/plain": [
       "<Figure size 1000x700 with 1 Axes>"
      ]
     },
     "metadata": {},
     "output_type": "display_data"
    }
   ],
   "source": [
    "def visualize_sample(points, labels, title=\"Point Cloud Sample\"):\n",
    "    points = points.numpy()\n",
    "    labels = labels.numpy()\n",
    "    fig = plt.figure(figsize=(10, 7))\n",
    "    ax = fig.add_subplot(111, projection='3d')\n",
    "    ax.scatter(points[:, 0], points[:, 1], points[:, 2], c=labels, cmap=\"coolwarm\", s=1)\n",
    "    ax.set_title(title)\n",
    "    ax.axis(\"off\")\n",
    "    plt.show()\n",
    "\n",
    "visualize_sample(points, labels)\n"
   ]
  }
 ],
 "metadata": {
  "kernelspec": {
   "display_name": "Python 3",
   "language": "python",
   "name": "python3"
  },
  "language_info": {
   "codemirror_mode": {
    "name": "ipython",
    "version": 3
   },
   "file_extension": ".py",
   "mimetype": "text/x-python",
   "name": "python",
   "nbconvert_exporter": "python",
   "pygments_lexer": "ipython3",
   "version": "3.10.11"
  }
 },
 "nbformat": 4,
 "nbformat_minor": 5
}
